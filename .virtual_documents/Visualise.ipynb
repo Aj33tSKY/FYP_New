from PIL import Image
import matplotlib.pyplot as plt
from torchvision import transforms

# Load the image
image_path = r'C:\Ajeet\FYP_code\4B-2D-Uni\test\Stable\render_01.png'
original_image = Image.open(image_path)

# Display the original image
plt.figure(figsize=(6, 6))
plt.title("Original Image")
plt.imshow(original_image)
plt.axis('off')
plt.show()

# Define the transform to resize the image to 224x224
resize_transform = transforms.Compose([
    transforms.Resize((224, 224))
])

# Apply the transform
resized_image = resize_transform(original_image)

# Display the resized image
plt.figure(figsize=(6, 6))
plt.title("Resized Image (224x224)")
plt.imshow(resized_image)
plt.axis('off')
plt.show()

image_path = r'C:\Ajeet\FYP_code\4B-2D-Non\test\Stable\render_01.png'
original_image = Image.open(image_path)

# Display the original image
plt.figure(figsize=(6, 6))
plt.title("Original Image")
plt.imshow(original_image)
plt.axis('off')
plt.show()




