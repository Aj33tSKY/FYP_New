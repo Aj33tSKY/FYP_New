import os
import shutil
import numpy as np

def split_dataset(source_dir, dest_dir, train_size=0.6, val_size=0.2, test_size=0.2, random_state=42):
    """
    Split dataset into training, validation and testing sets while maintaining class balance.
    
    Parameters:
    source_dir (str): Directory containing 'Stable' and 'Unstable' subdirectories
    dest_dir (str): Directory where split dataset will be saved
    train_size (float): Proportion of data for training (default: 0.6)
    val_size (float): Proportion of data for validation (default: 0.2)
    test_size (float): Proportion of data for testing (default: 0.2)
    random_state (int): Random seed for reproducibility
    """
    
    # Set random seed for reproducibility
    np.random.seed(random_state)
    
    # Create destination directories
    splits = ['train', 'val', 'test']
    classes = ['Stable', 'Unstable']
    
    for split in splits:
        for cls in classes:
            os.makedirs(os.path.join(dest_dir, split, cls), exist_ok=True)
    
    # Process each class
    for cls in classes:
        # Get all images in the class
        cls_path = os.path.join(source_dir, cls)
        images = [f for f in os.listdir(cls_path) if f.endswith(('.jpg', '.jpeg', '.png'))]
        
        # Shuffle the images
        images = np.array(images)
        np.random.shuffle(images)
        
        # Calculate split indices
        n_images = len(images)
        n_train = int(n_images * train_size)
        n_val = int(n_images * val_size)
        
        # Split the data
        train_files = images[:n_train]
        val_files = images[n_train:n_train + n_val]
        test_files = images[n_train + n_val:]
        
        # Copy files to respective directories
        for file in train_files:
            shutil.copy2(
                os.path.join(cls_path, file),
                os.path.join(dest_dir, 'train', cls, file)
            )
            
        for file in val_files:
            shutil.copy2(
                os.path.join(cls_path, file),
                os.path.join(dest_dir, 'val', cls, file)
            )
            
        for file in test_files:
            shutil.copy2(
                os.path.join(cls_path, file),
                os.path.join(dest_dir, 'test', cls, file)
            )
        
        # Print statistics
        print(f"\n{cls} class split statistics:")
        print(f"Training: {len(train_files)} images ({len(train_files)/n_images:.1%})")
        print(f"Validation: {len(val_files)} images ({len(val_files)/n_images:.1%})")
        print(f"Testing: {len(test_files)} images ({len(test_files)/n_images:.1%})")

if __name__ == "__main__":
    # Example usage
    source_directory = "OG_DS/10B-2D-Non_OG"  # Your source directory containing Stable and Unstable folders
    destination_directory = "10B-2D-Non"  # Where you want the split dataset to be saved
    
    split_dataset(source_directory, destination_directory)



