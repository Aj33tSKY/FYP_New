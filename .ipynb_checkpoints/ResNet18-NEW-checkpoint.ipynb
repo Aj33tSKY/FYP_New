{
 "cells": [
  {
   "cell_type": "code",
   "execution_count": 2,
   "id": "002c89f8-8f7b-4c3f-9109-7e7363ec352f",
   "metadata": {},
   "outputs": [
    {
     "name": "stdout",
     "output_type": "stream",
     "text": [
      "testing\n"
     ]
    }
   ],
   "source": [
    "import torch\n",
    "import torch.nn as nn\n",
    "import torch.optim as optim\n",
    "from torchvision.models import resnet18, ResNet18_Weights\n",
    "from torchvision import datasets, transforms\n",
    "from torch.utils.data import random_split, DataLoader\n",
    "print (\"testing\")"
   ]
  },
  {
   "cell_type": "code",
   "execution_count": 37,
   "id": "3ef5e1fc-ab54-4ae6-ada9-67aeeb948bdc",
   "metadata": {},
   "outputs": [],
   "source": [
    "# Define data transformations with augmentation\n",
    "transform = transforms.Compose([\n",
    "    transforms.RandomHorizontalFlip(),\n",
    "    transforms.RandomRotation(10),\n",
    "    transforms.Resize((224, 224)),  # Resize to match ResNet input size\n",
    "    transforms.ToTensor(),\n",
    "    transforms.Normalize(mean=[0.485, 0.456, 0.406], std=[0.229, 0.224, 0.225])\n",
    "])"
   ]
  },
  {
   "cell_type": "code",
   "execution_count": 39,
   "id": "3e022ce9-c27a-4466-9db7-e3bc4f59b523",
   "metadata": {},
   "outputs": [
    {
     "name": "stdout",
     "output_type": "stream",
     "text": [
      "Training set size: 600 images\n",
      "Training set size: 200 images\n",
      "Testing set size: 200 images\n"
     ]
    }
   ],
   "source": [
    "# Load the dataset from the root folder\n",
    "# The root folder should contain subfolders \"stable\" and \"unstable\"\n",
    "train = datasets.ImageFolder(root='10B-2D-Uni/train', transform=transform)\n",
    "val = datasets.ImageFolder(root='10B-2D-Uni/val', transform=transform)\n",
    "test = datasets.ImageFolder(root='10B-2D-Uni/test', transform=transform)\n",
    "\n",
    "# Create data loaders for training and testing\n",
    "train_loader = DataLoader(train, batch_size=16, shuffle=True)\n",
    "val_loader = DataLoader(val, batch_size=16, shuffle=True)\n",
    "test_loader = DataLoader(test, batch_size=16, shuffle=False)\n",
    "\n",
    "print(f\"Training set size: {len(train)} images\")\n",
    "print(f\"Training set size: {len(val)} images\")\n",
    "print(f\"Testing set size: {len(test)} images\")"
   ]
  },
  {
   "cell_type": "code",
   "execution_count": 41,
   "id": "640ac4f1-8792-4b7c-84f5-c60821b164af",
   "metadata": {},
   "outputs": [
    {
     "name": "stdout",
     "output_type": "stream",
     "text": [
      "Using device: cuda\n"
     ]
    }
   ],
   "source": [
    "# Load the pre-trained ResNet18 model\n",
    "resnet18 = resnet18(weights=ResNet18_Weights.IMAGENET1K_V1)\n",
    "\n",
    "# Modify the final fully connected layer for binary classification\n",
    "resnet18.fc = nn.Linear(resnet18.fc.in_features, 2)\n",
    "\n",
    "# Move the model to GPU if available\n",
    "device = torch.device('cuda' if torch.cuda.is_available() else 'cpu')\n",
    "print(f\"Using device: {device}\")\n",
    "resnet18 = resnet18.to(device)\n",
    "\n",
    "# Define loss function and optimizer\n",
    "criterion = nn.CrossEntropyLoss()\n",
    "optimizer = optim.Adam(resnet18.parameters(), lr=0.001)"
   ]
  },
  {
   "cell_type": "code",
   "execution_count": 42,
   "id": "e6f07174-0870-4d21-b13e-e6f7d46fd0a3",
   "metadata": {},
   "outputs": [],
   "source": [
    "def evaluate_model(model, data_loader):\n",
    "    \"\"\"Evaluate model on the provided data loader\"\"\"\n",
    "    model.eval()\n",
    "    correct = 0\n",
    "    total = 0\n",
    "    running_loss = 0.0\n",
    "    \n",
    "    with torch.no_grad():\n",
    "        for inputs, labels in data_loader:\n",
    "            inputs, labels = inputs.to(device), labels.to(device)\n",
    "            outputs = model(inputs)\n",
    "            loss = criterion(outputs, labels)\n",
    "            running_loss += loss.item()\n",
    "            _, predicted = torch.max(outputs, 1)\n",
    "            total += labels.size(0)\n",
    "            correct += (predicted == labels).sum().item()\n",
    "    \n",
    "    accuracy = correct / total * 100\n",
    "    avg_loss = running_loss / len(data_loader)\n",
    "    return accuracy, avg_loss"
   ]
  },
  {
   "cell_type": "code",
   "execution_count": 45,
   "id": "ae496350-685e-4e8c-bd05-715d887fd264",
   "metadata": {},
   "outputs": [
    {
     "name": "stdout",
     "output_type": "stream",
     "text": [
      "Starting training...\n",
      "Epoch [1/15]\n",
      "Training Loss: 0.7794, Training Accuracy: 59.50%\n",
      "Validation Loss: 1.3709, Validation Accuracy: 53.50%\n",
      "Current LR: 0.001000\n",
      "------------------------------------------------------------\n",
      "Epoch [2/15]\n",
      "Training Loss: 0.5260, Training Accuracy: 74.50%\n",
      "Validation Loss: 0.5458, Validation Accuracy: 69.50%\n",
      "Current LR: 0.001000\n",
      "------------------------------------------------------------\n",
      "Epoch [3/15]\n",
      "Training Loss: 0.5589, Training Accuracy: 71.00%\n",
      "Validation Loss: 0.5162, Validation Accuracy: 77.00%\n",
      "Current LR: 0.001000\n",
      "------------------------------------------------------------\n",
      "Epoch [4/15]\n",
      "Training Loss: 0.5144, Training Accuracy: 74.83%\n",
      "Validation Loss: 0.5837, Validation Accuracy: 71.00%\n",
      "Current LR: 0.001000\n",
      "------------------------------------------------------------\n",
      "Epoch [5/15]\n",
      "Training Loss: 0.4985, Training Accuracy: 76.17%\n",
      "Validation Loss: 0.4814, Validation Accuracy: 82.50%\n",
      "Current LR: 0.001000\n",
      "------------------------------------------------------------\n",
      "Epoch [6/15]\n",
      "Training Loss: 0.4445, Training Accuracy: 79.00%\n",
      "Validation Loss: 0.3142, Validation Accuracy: 88.50%\n",
      "Current LR: 0.001000\n",
      "------------------------------------------------------------\n",
      "Epoch [7/15]\n",
      "Training Loss: 0.4190, Training Accuracy: 80.33%\n",
      "Validation Loss: 0.4457, Validation Accuracy: 77.50%\n",
      "Current LR: 0.001000\n",
      "------------------------------------------------------------\n",
      "Epoch [8/15]\n",
      "Training Loss: 0.4288, Training Accuracy: 80.83%\n",
      "Validation Loss: 0.3394, Validation Accuracy: 86.00%\n",
      "Current LR: 0.001000\n",
      "------------------------------------------------------------\n",
      "Epoch [9/15]\n",
      "Training Loss: 0.3821, Training Accuracy: 82.67%\n",
      "Validation Loss: 0.3457, Validation Accuracy: 83.00%\n",
      "Current LR: 0.000500\n",
      "------------------------------------------------------------\n",
      "Epoch [10/15]\n",
      "Training Loss: 0.3412, Training Accuracy: 84.33%\n",
      "Validation Loss: 0.3132, Validation Accuracy: 86.00%\n",
      "Current LR: 0.000500\n",
      "------------------------------------------------------------\n",
      "Epoch [11/15]\n",
      "Training Loss: 0.3635, Training Accuracy: 85.00%\n",
      "Validation Loss: 0.4910, Validation Accuracy: 79.50%\n",
      "Current LR: 0.000500\n",
      "------------------------------------------------------------\n",
      "Epoch [12/15]\n",
      "Training Loss: 0.3243, Training Accuracy: 88.00%\n",
      "Validation Loss: 0.3207, Validation Accuracy: 86.00%\n",
      "Current LR: 0.000500\n",
      "------------------------------------------------------------\n",
      "Epoch [13/15]\n",
      "Training Loss: 0.3037, Training Accuracy: 86.50%\n",
      "Validation Loss: 0.2664, Validation Accuracy: 91.00%\n",
      "Current LR: 0.000500\n",
      "------------------------------------------------------------\n",
      "Epoch [14/15]\n",
      "Training Loss: 0.3396, Training Accuracy: 86.83%\n",
      "Validation Loss: 0.2926, Validation Accuracy: 88.00%\n",
      "Current LR: 0.000500\n",
      "------------------------------------------------------------\n",
      "Epoch [15/15]\n",
      "Training Loss: 0.3103, Training Accuracy: 87.83%\n",
      "Validation Loss: 0.2758, Validation Accuracy: 87.50%\n",
      "Current LR: 0.000500\n",
      "------------------------------------------------------------\n",
      "Training completed.\n"
     ]
    }
   ],
   "source": [
    "# Training loop with validation\n",
    "\n",
    "import torch.optim.lr_scheduler as lr_scheduler\n",
    "\n",
    "num_epochs = 15\n",
    "best_val_accuracy = 0.0\n",
    "temp = None\n",
    "print(\"Starting training...\")\n",
    "\n",
    "# Define scheduler to reduce LR on plateauing validation loss\n",
    "scheduler = lr_scheduler.ReduceLROnPlateau(optimizer, mode='min', factor=0.5, patience=2)\n",
    "\n",
    "for epoch in range(num_epochs):\n",
    "    # Training phase\n",
    "    resnet18.train()\n",
    "    running_loss = 0.0\n",
    "    correct = 0\n",
    "    total = 0\n",
    "    \n",
    "    for inputs, labels in train_loader:\n",
    "        inputs, labels = inputs.to(device), labels.to(device)\n",
    "        optimizer.zero_grad()\n",
    "        outputs = resnet18(inputs)\n",
    "        loss = criterion(outputs, labels)\n",
    "        loss.backward()\n",
    "        optimizer.step()\n",
    "        running_loss += loss.item()\n",
    "        \n",
    "        # Calculate training accuracy\n",
    "        _, predicted = torch.max(outputs, 1)\n",
    "        total += labels.size(0)\n",
    "        correct += (predicted == labels).sum().item()\n",
    "    \n",
    "    train_accuracy = correct / total * 100 #check underfitting\n",
    "    train_loss = running_loss / len(train_loader)\n",
    "    \n",
    "    # Validation phase\n",
    "    val_accuracy, val_loss = evaluate_model(resnet18, val_loader) #check overfitting\n",
    "    \n",
    "    # Save best model\n",
    "    if val_accuracy >= best_val_accuracy:\n",
    "        best_val_accuracy = val_accuracy\n",
    "        temp = resnet18.state_dict()\n",
    "\n",
    "    # Step the scheduler with validation loss\n",
    "    scheduler.step(val_loss)\n",
    "    \n",
    "    print(f'Epoch [{epoch + 1}/{num_epochs}]')\n",
    "    print(f'Training Loss: {train_loss:.4f}, Training Accuracy: {train_accuracy:.2f}%')\n",
    "    print(f'Validation Loss: {val_loss:.4f}, Validation Accuracy: {val_accuracy:.2f}%')\n",
    "    print(f'Current LR: {optimizer.param_groups[0][\"lr\"]:.6f}')\n",
    "    print('-' * 60)\n",
    "\n",
    "torch.save(temp, '10B-2D-Uni_best_model.pth')\n",
    "print(\"Training completed.\")"
   ]
  },
  {
   "cell_type": "code",
   "execution_count": 48,
   "id": "a62e1a92-15d5-4277-a7ca-c3c020118d2a",
   "metadata": {},
   "outputs": [
    {
     "name": "stdout",
     "output_type": "stream",
     "text": [
      "\n",
      "Final Test Loss: 0.3584, Test Accuracy: 87.50%\n",
      "Best Validation Accuracy: 91.00%\n"
     ]
    }
   ],
   "source": [
    "# Final evaluation on test set\n",
    "from torchvision.models import resnet18, ResNet18_Weights\n",
    "# Initialize the ResNet18 model (without pre-trained weights)\n",
    "model = resnet18(weights=None)\n",
    "model.fc = torch.nn.Linear(model.fc.in_features, 2)\n",
    "\n",
    "# Load your fine-tuned weights\n",
    "model.load_state_dict(torch.load('10B-2D-Uni_best_model.pth', weights_only=True))\n",
    "\n",
    "# Move the model to GPU if available\n",
    "model = model.to(device)\n",
    "\n",
    "test_accuracy, test_loss = evaluate_model(model, test_loader)\n",
    "print(f'\\nFinal Test Loss: {test_loss:.4f}, Test Accuracy: {test_accuracy:.2f}%')\n",
    "print(f'Best Validation Accuracy: {best_val_accuracy:.2f}%')\n",
    "\n",
    "# Save final model\n",
    "#torch.save(model.state_dict(), 'ResNet18_final_model.pth')\n",
    "#print(\"Final model saved!\")"
   ]
  },
  {
   "cell_type": "code",
   "execution_count": null,
   "id": "54e32f90-a25f-4841-a131-5bac34f5ba73",
   "metadata": {},
   "outputs": [],
   "source": []
  },
  {
   "cell_type": "code",
   "execution_count": null,
   "id": "57220226-4b21-48d5-bd34-c83bacf50f2d",
   "metadata": {},
   "outputs": [],
   "source": []
  },
  {
   "cell_type": "code",
   "execution_count": null,
   "id": "af8664d9-b203-482d-bef0-a4b10edab1b6",
   "metadata": {},
   "outputs": [],
   "source": []
  }
 ],
 "metadata": {
  "kernelspec": {
   "display_name": "Python [conda env:FPY_env]",
   "language": "python",
   "name": "conda-env-FPY_env-py"
  },
  "language_info": {
   "codemirror_mode": {
    "name": "ipython",
    "version": 3
   },
   "file_extension": ".py",
   "mimetype": "text/x-python",
   "name": "python",
   "nbconvert_exporter": "python",
   "pygments_lexer": "ipython3",
   "version": "3.12.8"
  }
 },
 "nbformat": 4,
 "nbformat_minor": 5
}
